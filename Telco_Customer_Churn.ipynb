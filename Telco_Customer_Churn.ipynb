{
  "nbformat": 4,
  "nbformat_minor": 0,
  "metadata": {
    "colab": {
      "provenance": [],
      "collapsed_sections": [
        "oQyh4_PcVxaV"
      ]
    },
    "kernelspec": {
      "name": "python3",
      "display_name": "Python 3"
    },
    "language_info": {
      "name": "python"
    }
  },
  "cells": [
    {
      "cell_type": "markdown",
      "source": [
        "# **Veri setini ekliyoruz**"
      ],
      "metadata": {
        "id": "NWnzDt7lUuOh"
      }
    },
    {
      "cell_type": "code",
      "source": [
        "# Veri setini pandas kütüphanesi ile okuyoruz\n",
        "import pandas as pd\n",
        "df = pd.read_csv(\"/content/Telco-Customer-Churn.csv\")"
      ],
      "metadata": {
        "id": "2PyNjDb23XSB"
      },
      "execution_count": 1,
      "outputs": []
    },
    {
      "cell_type": "markdown",
      "source": [
        "# **Görev 1: Keşifçi Veri Analizi**"
      ],
      "metadata": {
        "id": "i-AtbPCqU4hG"
      }
    },
    {
      "cell_type": "code",
      "source": [
        "# Adım 1: Numerik ve kategorik değişkenleri yakalayalım\n",
        "numerik_degiskenler = df.select_dtypes(include=[\"int64\", \"float64\"]).columns\n",
        "kategorik_degiskenler = df.select_dtypes(include=[\"object\"]).columns\n",
        "print(numerik_degiskenler)\n",
        "print(kategorik_degiskenler)"
      ],
      "metadata": {
        "colab": {
          "base_uri": "https://localhost:8080/"
        },
        "id": "XsGwkJPsU7cn",
        "outputId": "c7f604fb-fec6-4bb6-94c9-7da013967ad4"
      },
      "execution_count": 2,
      "outputs": [
        {
          "output_type": "stream",
          "name": "stdout",
          "text": [
            "Index(['SeniorCitizen', 'tenure', 'MonthlyCharges'], dtype='object')\n",
            "Index(['customerID', 'gender', 'Partner', 'Dependents', 'PhoneService',\n",
            "       'MultipleLines', 'InternetService', 'OnlineSecurity', 'OnlineBackup',\n",
            "       'DeviceProtection', 'TechSupport', 'StreamingTV', 'StreamingMovies',\n",
            "       'Contract', 'PaperlessBilling', 'PaymentMethod', 'TotalCharges',\n",
            "       'Churn'],\n",
            "      dtype='object')\n"
          ]
        }
      ]
    },
    {
      "cell_type": "code",
      "source": [
        "# Adım 2: Gerekli düzenlemeleri yapalım\n",
        "df[\"TotalCharges\"] = pd.to_numeric(df[\"TotalCharges\"], errors=\"coerce\")\n",
        "\n",
        "numerik_degiskenler = df.select_dtypes(include=[\"int64\", \"float64\"]).columns\n",
        "kategorik_degiskenler = df.select_dtypes(include=[\"object\"]).columns\n",
        "print(numerik_degiskenler)\n",
        "print(kategorik_degiskenler)"
      ],
      "metadata": {
        "colab": {
          "base_uri": "https://localhost:8080/"
        },
        "id": "citdbdflVPXq",
        "outputId": "25e58de4-5fc0-43c6-bae1-a4659a34fd13"
      },
      "execution_count": 3,
      "outputs": [
        {
          "output_type": "stream",
          "name": "stdout",
          "text": [
            "Index(['SeniorCitizen', 'tenure', 'MonthlyCharges', 'TotalCharges'], dtype='object')\n",
            "Index(['customerID', 'gender', 'Partner', 'Dependents', 'PhoneService',\n",
            "       'MultipleLines', 'InternetService', 'OnlineSecurity', 'OnlineBackup',\n",
            "       'DeviceProtection', 'TechSupport', 'StreamingTV', 'StreamingMovies',\n",
            "       'Contract', 'PaperlessBilling', 'PaymentMethod', 'Churn'],\n",
            "      dtype='object')\n"
          ]
        }
      ]
    },
    {
      "cell_type": "code",
      "source": [
        "# Adım 3: Numerik ve kategorik değişkenlerin veri içindeki dağılımını gözlemleyelim\n",
        "print(df[numerik_degiskenler].describe())\n",
        "for degisken in kategorik_degiskenler:\n",
        "    print(df[degisken].value_counts())"
      ],
      "metadata": {
        "colab": {
          "base_uri": "https://localhost:8080/"
        },
        "id": "yvJdd4PXVY18",
        "outputId": "c7dc05e0-fe54-486f-baa9-8aadb1458831"
      },
      "execution_count": 4,
      "outputs": [
        {
          "output_type": "stream",
          "name": "stdout",
          "text": [
            "       SeniorCitizen       tenure  MonthlyCharges  TotalCharges\n",
            "count    7043.000000  7043.000000     7043.000000   7032.000000\n",
            "mean        0.162147    32.371149       64.761692   2283.300441\n",
            "std         0.368612    24.559481       30.090047   2266.771362\n",
            "min         0.000000     0.000000       18.250000     18.800000\n",
            "25%         0.000000     9.000000       35.500000    401.450000\n",
            "50%         0.000000    29.000000       70.350000   1397.475000\n",
            "75%         0.000000    55.000000       89.850000   3794.737500\n",
            "max         1.000000    72.000000      118.750000   8684.800000\n",
            "7590-VHVEG    1\n",
            "3791-LGQCY    1\n",
            "6008-NAIXK    1\n",
            "5956-YHHRX    1\n",
            "5365-LLFYV    1\n",
            "             ..\n",
            "9796-MVYXX    1\n",
            "2637-FKFSY    1\n",
            "1552-AAGRX    1\n",
            "4304-TSPVK    1\n",
            "3186-AJIEK    1\n",
            "Name: customerID, Length: 7043, dtype: int64\n",
            "Male      3555\n",
            "Female    3488\n",
            "Name: gender, dtype: int64\n",
            "No     3641\n",
            "Yes    3402\n",
            "Name: Partner, dtype: int64\n",
            "No     4933\n",
            "Yes    2110\n",
            "Name: Dependents, dtype: int64\n",
            "Yes    6361\n",
            "No      682\n",
            "Name: PhoneService, dtype: int64\n",
            "No                  3390\n",
            "Yes                 2971\n",
            "No phone service     682\n",
            "Name: MultipleLines, dtype: int64\n",
            "Fiber optic    3096\n",
            "DSL            2421\n",
            "No             1526\n",
            "Name: InternetService, dtype: int64\n",
            "No                     3498\n",
            "Yes                    2019\n",
            "No internet service    1526\n",
            "Name: OnlineSecurity, dtype: int64\n",
            "No                     3088\n",
            "Yes                    2429\n",
            "No internet service    1526\n",
            "Name: OnlineBackup, dtype: int64\n",
            "No                     3095\n",
            "Yes                    2422\n",
            "No internet service    1526\n",
            "Name: DeviceProtection, dtype: int64\n",
            "No                     3473\n",
            "Yes                    2044\n",
            "No internet service    1526\n",
            "Name: TechSupport, dtype: int64\n",
            "No                     2810\n",
            "Yes                    2707\n",
            "No internet service    1526\n",
            "Name: StreamingTV, dtype: int64\n",
            "No                     2785\n",
            "Yes                    2732\n",
            "No internet service    1526\n",
            "Name: StreamingMovies, dtype: int64\n",
            "Month-to-month    3875\n",
            "Two year          1695\n",
            "One year          1473\n",
            "Name: Contract, dtype: int64\n",
            "Yes    4171\n",
            "No     2872\n",
            "Name: PaperlessBilling, dtype: int64\n",
            "Electronic check             2365\n",
            "Mailed check                 1612\n",
            "Bank transfer (automatic)    1544\n",
            "Credit card (automatic)      1522\n",
            "Name: PaymentMethod, dtype: int64\n",
            "No     5174\n",
            "Yes    1869\n",
            "Name: Churn, dtype: int64\n"
          ]
        }
      ]
    },
    {
      "cell_type": "code",
      "source": [
        "# Adım 4: Kategorik değişkenler ile hedef değişken incelemesini yapalım\n",
        "for degisken in kategorik_degiskenler:\n",
        "    print(pd.crosstab(df[degisken], df[\"Churn\"], normalize=\"index\"))\n"
      ],
      "metadata": {
        "colab": {
          "base_uri": "https://localhost:8080/"
        },
        "id": "Tn8UP4klVike",
        "outputId": "070e126f-952d-44e6-e6f9-e7d7d236ff98"
      },
      "execution_count": 5,
      "outputs": [
        {
          "output_type": "stream",
          "name": "stdout",
          "text": [
            "Churn        No  Yes\n",
            "customerID          \n",
            "0002-ORFBO  1.0  0.0\n",
            "0003-MKNFE  1.0  0.0\n",
            "0004-TLHLJ  0.0  1.0\n",
            "0011-IGKFF  0.0  1.0\n",
            "0013-EXCHZ  0.0  1.0\n",
            "...         ...  ...\n",
            "9987-LUTYD  1.0  0.0\n",
            "9992-RRAMN  0.0  1.0\n",
            "9992-UJOEL  1.0  0.0\n",
            "9993-LHIEB  1.0  0.0\n",
            "9995-HOTOH  1.0  0.0\n",
            "\n",
            "[7043 rows x 2 columns]\n",
            "Churn         No       Yes\n",
            "gender                    \n",
            "Female  0.730791  0.269209\n",
            "Male    0.738397  0.261603\n",
            "Churn          No       Yes\n",
            "Partner                    \n",
            "No       0.670420  0.329580\n",
            "Yes      0.803351  0.196649\n",
            "Churn             No       Yes\n",
            "Dependents                    \n",
            "No          0.687209  0.312791\n",
            "Yes         0.845498  0.154502\n",
            "Churn               No       Yes\n",
            "PhoneService                    \n",
            "No            0.750733  0.249267\n",
            "Yes           0.732904  0.267096\n",
            "Churn                   No       Yes\n",
            "MultipleLines                       \n",
            "No                0.749558  0.250442\n",
            "No phone service  0.750733  0.249267\n",
            "Yes               0.713901  0.286099\n",
            "Churn                  No       Yes\n",
            "InternetService                    \n",
            "DSL              0.810409  0.189591\n",
            "Fiber optic      0.581072  0.418928\n",
            "No               0.925950  0.074050\n",
            "Churn                      No       Yes\n",
            "OnlineSecurity                         \n",
            "No                   0.582333  0.417667\n",
            "No internet service  0.925950  0.074050\n",
            "Yes                  0.853888  0.146112\n",
            "Churn                      No       Yes\n",
            "OnlineBackup                           \n",
            "No                   0.600712  0.399288\n",
            "No internet service  0.925950  0.074050\n",
            "Yes                  0.784685  0.215315\n",
            "Churn                      No       Yes\n",
            "DeviceProtection                       \n",
            "No                   0.608724  0.391276\n",
            "No internet service  0.925950  0.074050\n",
            "Yes                  0.774979  0.225021\n",
            "Churn                      No       Yes\n",
            "TechSupport                            \n",
            "No                   0.583645  0.416355\n",
            "No internet service  0.925950  0.074050\n",
            "Yes                  0.848337  0.151663\n",
            "Churn                      No       Yes\n",
            "StreamingTV                            \n",
            "No                   0.664769  0.335231\n",
            "No internet service  0.925950  0.074050\n",
            "Yes                  0.699298  0.300702\n",
            "Churn                      No       Yes\n",
            "StreamingMovies                        \n",
            "No                   0.663196  0.336804\n",
            "No internet service  0.925950  0.074050\n",
            "Yes                  0.700586  0.299414\n",
            "Churn                 No       Yes\n",
            "Contract                          \n",
            "Month-to-month  0.572903  0.427097\n",
            "One year        0.887305  0.112695\n",
            "Two year        0.971681  0.028319\n",
            "Churn                   No       Yes\n",
            "PaperlessBilling                    \n",
            "No                0.836699  0.163301\n",
            "Yes               0.664349  0.335651\n",
            "Churn                            No       Yes\n",
            "PaymentMethod                                \n",
            "Bank transfer (automatic)  0.832902  0.167098\n",
            "Credit card (automatic)    0.847569  0.152431\n",
            "Electronic check           0.547146  0.452854\n",
            "Mailed check               0.808933  0.191067\n",
            "Churn   No  Yes\n",
            "Churn          \n",
            "No     1.0  0.0\n",
            "Yes    0.0  1.0\n"
          ]
        }
      ]
    },
    {
      "cell_type": "code",
      "source": [
        "# Adım 5: Aykırı gözlem var mı inceleyelim\n",
        "import seaborn as sns\n",
        "import matplotlib.pyplot as plt\n",
        "from scipy.stats import zscore\n",
        "\n",
        "for degisken in numerik_degiskenler:\n",
        "    sns.boxplot(x=df[degisken])\n",
        "    plt.show()\n",
        "    print(\"Aykırı gözlem sayısı:\", sum((zscore(df[degisken]) < -3) | (zscore(df[degisken]) > 3)))"
      ],
      "metadata": {
        "colab": {
          "base_uri": "https://localhost:8080/",
          "height": 1000
        },
        "id": "DlYX5vR8Vku_",
        "outputId": "015e4417-3423-4dff-d28d-5f38a0fce16d"
      },
      "execution_count": 6,
      "outputs": [
        {
          "output_type": "display_data",
          "data": {
            "text/plain": [
              "<Figure size 640x480 with 1 Axes>"
            ],
            "image/png": "[encoded data removed]"
          },
          "metadata": {}
        },
        {
          "output_type": "stream",
          "name": "stdout",
          "text": [
            "Aykırı gözlem sayısı: 0\n"
          ]
        },
        {
          "output_type": "display_data",
          "data": {
            "text/plain": [
              "<Figure size 640x480 with 1 Axes>"
            ],
            "image/png": "[encoded data removed]"
          },
          "metadata": {}
        },
        {
          "output_type": "stream",
          "name": "stdout",
          "text": [
            "Aykırı gözlem sayısı: 0\n"
          ]
        },
        {
          "output_type": "display_data",
          "data": {
            "text/plain": [
              "<Figure size 640x480 with 1 Axes>"
            ],
            "image/png": "[encoded data removed]"
          },
          "metadata": {}
        },
        {
          "output_type": "stream",
          "name": "stdout",
          "text": [
            "Aykırı gözlem sayısı: 0\n"
          ]
        },
        {
          "output_type": "display_data",
          "data": {
            "text/plain": [
              "<Figure size 640x480 with 1 Axes>"
            ],
            "image/png": "[encoded data removed]"
          },
          "metadata": {}
        },
        {
          "output_type": "stream",
          "name": "stdout",
          "text": [
            "Aykırı gözlem sayısı: 0\n"
          ]
        }
      ]
    },
    {
      "cell_type": "code",
      "source": [
        "# Adım 6: Eksik gözlem var mı inceleyelim\n",
        "print(df.isnull().sum())"
      ],
      "metadata": {
        "colab": {
          "base_uri": "https://localhost:8080/"
        },
        "id": "91-JMpYPVtpn",
        "outputId": "d2ca38db-e428-4f8e-a753-f789f52cf9ba"
      },
      "execution_count": 7,
      "outputs": [
        {
          "output_type": "stream",
          "name": "stdout",
          "text": [
            "customerID           0\n",
            "gender               0\n",
            "SeniorCitizen        0\n",
            "Partner              0\n",
            "Dependents           0\n",
            "tenure               0\n",
            "PhoneService         0\n",
            "MultipleLines        0\n",
            "InternetService      0\n",
            "OnlineSecurity       0\n",
            "OnlineBackup         0\n",
            "DeviceProtection     0\n",
            "TechSupport          0\n",
            "StreamingTV          0\n",
            "StreamingMovies      0\n",
            "Contract             0\n",
            "PaperlessBilling     0\n",
            "PaymentMethod        0\n",
            "MonthlyCharges       0\n",
            "TotalCharges        11\n",
            "Churn                0\n",
            "dtype: int64\n"
          ]
        }
      ]
    },
    {
      "cell_type": "markdown",
      "source": [
        "# **Görev 2: Feature Engineering**"
      ],
      "metadata": {
        "id": "oQyh4_PcVxaV"
      }
    },
    {
      "cell_type": "code",
      "source": [
        "# Adım 1: Eksik ve aykırı gözlemler için gerekli işlemleri yapalım\n",
        "for degisken in numerik_degiskenler:\n",
        "    df[degisken].fillna(df[degisken].median(), inplace=True)\n",
        "    q1 = df[degisken].quantile(0.25)\n",
        "    q3 = df[degisken].quantile(0.75)\n",
        "    iqr = q3 - q1\n",
        "    alt_sinir = q1 - 1.5 * iqr\n",
        "    ust_sinir = q3 + 1.5 * iqr\n",
        "    df.loc[df[degisken] < alt_sinir, degisken] = alt_sinir\n",
        "    df.loc[df[degisken] > ust_sinir, degisken] = ust_sinir"
      ],
      "metadata": {
        "id": "2-NBH6-CVzNb"
      },
      "execution_count": 8,
      "outputs": []
    },
    {
      "cell_type": "code",
      "source": [
        "# Adım 2: Yeni değişkenler oluşturalım\n",
        "df[\"MonthlyCharges\"] = df[\"TotalCharges\"] / df[\"tenure\"]"
      ],
      "metadata": {
        "id": "1T8YfrIuV41f"
      },
      "execution_count": 9,
      "outputs": []
    },
    {
      "cell_type": "code",
      "source": [
        "# Adım 3: Encoding işlemlerini gerçekleştirelim\n",
        "df = pd.get_dummies(df, columns=kategorik_degiskenler, drop_first=True)"
      ],
      "metadata": {
        "id": "EWBdUu8uV97U"
      },
      "execution_count": 10,
      "outputs": []
    },
    {
      "cell_type": "code",
      "source": [
        "# Adım 4: Numerik değişkenler için standartlaştırma yapalım\n",
        "from sklearn.preprocessing import StandardScaler\n",
        "scaler = StandardScaler()\n",
        "df[numerik_degiskenler] = scaler.fit_transform(df[numerik_degiskenler])\n"
      ],
      "metadata": {
        "colab": {
          "base_uri": "https://localhost:8080/",
          "height": 373
        },
        "id": "bPdplpVjWBbK",
        "outputId": "014432ea-594a-43d4-bc3f-ae920caf9f47"
      },
      "execution_count": 11,
      "outputs": [
        {
          "output_type": "error",
          "ename": "ValueError",
          "evalue": "ignored",
          "traceback": [
            "\u001b[0;31m---------------------------------------------------------------------------\u001b[0m",
            "\u001b[0;31mValueError\u001b[0m                                Traceback (most recent call last)",
            "\u001b[0;32m<ipython-input-11-c039ad9f442c>\u001b[0m in \u001b[0;36m<cell line: 4>\u001b[0;34m()\u001b[0m\n\u001b[1;32m      2\u001b[0m \u001b[0;32mfrom\u001b[0m \u001b[0msklearn\u001b[0m\u001b[0;34m.\u001b[0m\u001b[0mpreprocessing\u001b[0m \u001b[0;32mimport\u001b[0m \u001b[0mStandardScaler\u001b[0m\u001b[0;34m\u001b[0m\u001b[0;34m\u001b[0m\u001b[0m\n\u001b[1;32m      3\u001b[0m \u001b[0mscaler\u001b[0m \u001b[0;34m=\u001b[0m \u001b[0mStandardScaler\u001b[0m\u001b[0;34m(\u001b[0m\u001b[0;34m)\u001b[0m\u001b[0;34m\u001b[0m\u001b[0;34m\u001b[0m\u001b[0m\n\u001b[0;32m----> 4\u001b[0;31m \u001b[0mdf\u001b[0m\u001b[0;34m[\u001b[0m\u001b[0mnumerik_degiskenler\u001b[0m\u001b[0;34m]\u001b[0m \u001b[0;34m=\u001b[0m \u001b[0mscaler\u001b[0m\u001b[0;34m.\u001b[0m\u001b[0mfit_transform\u001b[0m\u001b[0;34m(\u001b[0m\u001b[0mdf\u001b[0m\u001b[0;34m[\u001b[0m\u001b[0mnumerik_degiskenler\u001b[0m\u001b[0;34m]\u001b[0m\u001b[0;34m)\u001b[0m\u001b[0;34m\u001b[0m\u001b[0;34m\u001b[0m\u001b[0m\n\u001b[0m",
            "\u001b[0;32m/usr/local/lib/python3.10/dist-packages/sklearn/utils/_set_output.py\u001b[0m in \u001b[0;36mwrapped\u001b[0;34m(self, X, *args, **kwargs)\u001b[0m\n\u001b[1;32m    138\u001b[0m     \u001b[0;34m@\u001b[0m\u001b[0mwraps\u001b[0m\u001b[0;34m(\u001b[0m\u001b[0mf\u001b[0m\u001b[0;34m)\u001b[0m\u001b[0;34m\u001b[0m\u001b[0;34m\u001b[0m\u001b[0m\n\u001b[1;32m    139\u001b[0m     \u001b[0;32mdef\u001b[0m \u001b[0mwrapped\u001b[0m\u001b[0;34m(\u001b[0m\u001b[0mself\u001b[0m\u001b[0;34m,\u001b[0m \u001b[0mX\u001b[0m\u001b[0;34m,\u001b[0m \u001b[0;34m*\u001b[0m\u001b[0margs\u001b[0m\u001b[0;34m,\u001b[0m \u001b[0;34m**\u001b[0m\u001b[0mkwargs\u001b[0m\u001b[0;34m)\u001b[0m\u001b[0;34m:\u001b[0m\u001b[0;34m\u001b[0m\u001b[0;34m\u001b[0m\u001b[0m\n\u001b[0;32m--> 140\u001b[0;31m         \u001b[0mdata_to_wrap\u001b[0m \u001b[0;34m=\u001b[0m \u001b[0mf\u001b[0m\u001b[0;34m(\u001b[0m\u001b[0mself\u001b[0m\u001b[0;34m,\u001b[0m \u001b[0mX\u001b[0m\u001b[0;34m,\u001b[0m \u001b[0;34m*\u001b[0m\u001b[0margs\u001b[0m\u001b[0;34m,\u001b[0m \u001b[0;34m**\u001b[0m\u001b[0mkwargs\u001b[0m\u001b[0;34m)\u001b[0m\u001b[0;34m\u001b[0m\u001b[0;34m\u001b[0m\u001b[0m\n\u001b[0m\u001b[1;32m    141\u001b[0m         \u001b[0;32mif\u001b[0m \u001b[0misinstance\u001b[0m\u001b[0;34m(\u001b[0m\u001b[0mdata_to_wrap\u001b[0m\u001b[0;34m,\u001b[0m \u001b[0mtuple\u001b[0m\u001b[0;34m)\u001b[0m\u001b[0;34m:\u001b[0m\u001b[0;34m\u001b[0m\u001b[0;34m\u001b[0m\u001b[0m\n\u001b[1;32m    142\u001b[0m             \u001b[0;31m# only wrap the first output for cross decomposition\u001b[0m\u001b[0;34m\u001b[0m\u001b[0;34m\u001b[0m\u001b[0m\n",
            "\u001b[0;32m/usr/local/lib/python3.10/dist-packages/sklearn/base.py\u001b[0m in \u001b[0;36mfit_transform\u001b[0;34m(self, X, y, **fit_params)\u001b[0m\n\u001b[1;32m    876\u001b[0m         \u001b[0;32mif\u001b[0m \u001b[0my\u001b[0m \u001b[0;32mis\u001b[0m \u001b[0;32mNone\u001b[0m\u001b[0;34m:\u001b[0m\u001b[0;34m\u001b[0m\u001b[0;34m\u001b[0m\u001b[0m\n\u001b[1;32m    877\u001b[0m             \u001b[0;31m# fit method of arity 1 (unsupervised transformation)\u001b[0m\u001b[0;34m\u001b[0m\u001b[0;34m\u001b[0m\u001b[0m\n\u001b[0;32m--> 878\u001b[0;31m             \u001b[0;32mreturn\u001b[0m \u001b[0mself\u001b[0m\u001b[0;34m.\u001b[0m\u001b[0mfit\u001b[0m\u001b[0;34m(\u001b[0m\u001b[0mX\u001b[0m\u001b[0;34m,\u001b[0m \u001b[0;34m**\u001b[0m\u001b[0mfit_params\u001b[0m\u001b[0;34m)\u001b[0m\u001b[0;34m.\u001b[0m\u001b[0mtransform\u001b[0m\u001b[0;34m(\u001b[0m\u001b[0mX\u001b[0m\u001b[0;34m)\u001b[0m\u001b[0;34m\u001b[0m\u001b[0;34m\u001b[0m\u001b[0m\n\u001b[0m\u001b[1;32m    879\u001b[0m         \u001b[0;32melse\u001b[0m\u001b[0;34m:\u001b[0m\u001b[0;34m\u001b[0m\u001b[0;34m\u001b[0m\u001b[0m\n\u001b[1;32m    880\u001b[0m             \u001b[0;31m# fit method of arity 2 (supervised transformation)\u001b[0m\u001b[0;34m\u001b[0m\u001b[0;34m\u001b[0m\u001b[0m\n",
            "\u001b[0;32m/usr/local/lib/python3.10/dist-packages/sklearn/preprocessing/_data.py\u001b[0m in \u001b[0;36mfit\u001b[0;34m(self, X, y, sample_weight)\u001b[0m\n\u001b[1;32m    822\u001b[0m         \u001b[0;31m# Reset internal state before fitting\u001b[0m\u001b[0;34m\u001b[0m\u001b[0;34m\u001b[0m\u001b[0m\n\u001b[1;32m    823\u001b[0m         \u001b[0mself\u001b[0m\u001b[0;34m.\u001b[0m\u001b[0m_reset\u001b[0m\u001b[0;34m(\u001b[0m\u001b[0;34m)\u001b[0m\u001b[0;34m\u001b[0m\u001b[0;34m\u001b[0m\u001b[0m\n\u001b[0;32m--> 824\u001b[0;31m         \u001b[0;32mreturn\u001b[0m \u001b[0mself\u001b[0m\u001b[0;34m.\u001b[0m\u001b[0mpartial_fit\u001b[0m\u001b[0;34m(\u001b[0m\u001b[0mX\u001b[0m\u001b[0;34m,\u001b[0m \u001b[0my\u001b[0m\u001b[0;34m,\u001b[0m \u001b[0msample_weight\u001b[0m\u001b[0;34m)\u001b[0m\u001b[0;34m\u001b[0m\u001b[0;34m\u001b[0m\u001b[0m\n\u001b[0m\u001b[1;32m    825\u001b[0m \u001b[0;34m\u001b[0m\u001b[0m\n\u001b[1;32m    826\u001b[0m     \u001b[0;32mdef\u001b[0m \u001b[0mpartial_fit\u001b[0m\u001b[0;34m(\u001b[0m\u001b[0mself\u001b[0m\u001b[0;34m,\u001b[0m \u001b[0mX\u001b[0m\u001b[0;34m,\u001b[0m \u001b[0my\u001b[0m\u001b[0;34m=\u001b[0m\u001b[0;32mNone\u001b[0m\u001b[0;34m,\u001b[0m \u001b[0msample_weight\u001b[0m\u001b[0;34m=\u001b[0m\u001b[0;32mNone\u001b[0m\u001b[0;34m)\u001b[0m\u001b[0;34m:\u001b[0m\u001b[0;34m\u001b[0m\u001b[0;34m\u001b[0m\u001b[0m\n",
            "\u001b[0;32m/usr/local/lib/python3.10/dist-packages/sklearn/preprocessing/_data.py\u001b[0m in \u001b[0;36mpartial_fit\u001b[0;34m(self, X, y, sample_weight)\u001b[0m\n\u001b[1;32m    859\u001b[0m \u001b[0;34m\u001b[0m\u001b[0m\n\u001b[1;32m    860\u001b[0m         \u001b[0mfirst_call\u001b[0m \u001b[0;34m=\u001b[0m \u001b[0;32mnot\u001b[0m \u001b[0mhasattr\u001b[0m\u001b[0;34m(\u001b[0m\u001b[0mself\u001b[0m\u001b[0;34m,\u001b[0m \u001b[0;34m\"n_samples_seen_\"\u001b[0m\u001b[0;34m)\u001b[0m\u001b[0;34m\u001b[0m\u001b[0;34m\u001b[0m\u001b[0m\n\u001b[0;32m--> 861\u001b[0;31m         X = self._validate_data(\n\u001b[0m\u001b[1;32m    862\u001b[0m             \u001b[0mX\u001b[0m\u001b[0;34m,\u001b[0m\u001b[0;34m\u001b[0m\u001b[0;34m\u001b[0m\u001b[0m\n\u001b[1;32m    863\u001b[0m             \u001b[0maccept_sparse\u001b[0m\u001b[0;34m=\u001b[0m\u001b[0;34m(\u001b[0m\u001b[0;34m\"csr\"\u001b[0m\u001b[0;34m,\u001b[0m \u001b[0;34m\"csc\"\u001b[0m\u001b[0;34m)\u001b[0m\u001b[0;34m,\u001b[0m\u001b[0;34m\u001b[0m\u001b[0;34m\u001b[0m\u001b[0m\n",
            "\u001b[0;32m/usr/local/lib/python3.10/dist-packages/sklearn/base.py\u001b[0m in \u001b[0;36m_validate_data\u001b[0;34m(self, X, y, reset, validate_separately, **check_params)\u001b[0m\n\u001b[1;32m    563\u001b[0m             \u001b[0;32mraise\u001b[0m \u001b[0mValueError\u001b[0m\u001b[0;34m(\u001b[0m\u001b[0;34m\"Validation should be done on X, y or both.\"\u001b[0m\u001b[0;34m)\u001b[0m\u001b[0;34m\u001b[0m\u001b[0;34m\u001b[0m\u001b[0m\n\u001b[1;32m    564\u001b[0m         \u001b[0;32melif\u001b[0m \u001b[0;32mnot\u001b[0m \u001b[0mno_val_X\u001b[0m \u001b[0;32mand\u001b[0m \u001b[0mno_val_y\u001b[0m\u001b[0;34m:\u001b[0m\u001b[0;34m\u001b[0m\u001b[0;34m\u001b[0m\u001b[0m\n\u001b[0;32m--> 565\u001b[0;31m             \u001b[0mX\u001b[0m \u001b[0;34m=\u001b[0m \u001b[0mcheck_array\u001b[0m\u001b[0;34m(\u001b[0m\u001b[0mX\u001b[0m\u001b[0;34m,\u001b[0m \u001b[0minput_name\u001b[0m\u001b[0;34m=\u001b[0m\u001b[0;34m\"X\"\u001b[0m\u001b[0;34m,\u001b[0m \u001b[0;34m**\u001b[0m\u001b[0mcheck_params\u001b[0m\u001b[0;34m)\u001b[0m\u001b[0;34m\u001b[0m\u001b[0;34m\u001b[0m\u001b[0m\n\u001b[0m\u001b[1;32m    566\u001b[0m             \u001b[0mout\u001b[0m \u001b[0;34m=\u001b[0m \u001b[0mX\u001b[0m\u001b[0;34m\u001b[0m\u001b[0;34m\u001b[0m\u001b[0m\n\u001b[1;32m    567\u001b[0m         \u001b[0;32melif\u001b[0m \u001b[0mno_val_X\u001b[0m \u001b[0;32mand\u001b[0m \u001b[0;32mnot\u001b[0m \u001b[0mno_val_y\u001b[0m\u001b[0;34m:\u001b[0m\u001b[0;34m\u001b[0m\u001b[0;34m\u001b[0m\u001b[0m\n",
            "\u001b[0;32m/usr/local/lib/python3.10/dist-packages/sklearn/utils/validation.py\u001b[0m in \u001b[0;36mcheck_array\u001b[0;34m(array, accept_sparse, accept_large_sparse, dtype, order, copy, force_all_finite, ensure_2d, allow_nd, ensure_min_samples, ensure_min_features, estimator, input_name)\u001b[0m\n\u001b[1;32m    919\u001b[0m \u001b[0;34m\u001b[0m\u001b[0m\n\u001b[1;32m    920\u001b[0m         \u001b[0;32mif\u001b[0m \u001b[0mforce_all_finite\u001b[0m\u001b[0;34m:\u001b[0m\u001b[0;34m\u001b[0m\u001b[0;34m\u001b[0m\u001b[0m\n\u001b[0;32m--> 921\u001b[0;31m             _assert_all_finite(\n\u001b[0m\u001b[1;32m    922\u001b[0m                 \u001b[0marray\u001b[0m\u001b[0;34m,\u001b[0m\u001b[0;34m\u001b[0m\u001b[0;34m\u001b[0m\u001b[0m\n\u001b[1;32m    923\u001b[0m                 \u001b[0minput_name\u001b[0m\u001b[0;34m=\u001b[0m\u001b[0minput_name\u001b[0m\u001b[0;34m,\u001b[0m\u001b[0;34m\u001b[0m\u001b[0;34m\u001b[0m\u001b[0m\n",
            "\u001b[0;32m/usr/local/lib/python3.10/dist-packages/sklearn/utils/validation.py\u001b[0m in \u001b[0;36m_assert_all_finite\u001b[0;34m(X, allow_nan, msg_dtype, estimator_name, input_name)\u001b[0m\n\u001b[1;32m    159\u001b[0m                 \u001b[0;34m\"#estimators-that-handle-nan-values\"\u001b[0m\u001b[0;34m\u001b[0m\u001b[0;34m\u001b[0m\u001b[0m\n\u001b[1;32m    160\u001b[0m             )\n\u001b[0;32m--> 161\u001b[0;31m         \u001b[0;32mraise\u001b[0m \u001b[0mValueError\u001b[0m\u001b[0;34m(\u001b[0m\u001b[0mmsg_err\u001b[0m\u001b[0;34m)\u001b[0m\u001b[0;34m\u001b[0m\u001b[0;34m\u001b[0m\u001b[0m\n\u001b[0m\u001b[1;32m    162\u001b[0m \u001b[0;34m\u001b[0m\u001b[0m\n\u001b[1;32m    163\u001b[0m \u001b[0;34m\u001b[0m\u001b[0m\n",
            "\u001b[0;31mValueError\u001b[0m: Input X contains infinity or a value too large for dtype('float64')."
          ]
        }
      ]
    },
    {
      "cell_type": "code",
      "source": [
        "for degisken in numerik_degiskenler:\n",
        "    q1 = df[degisken].quantile(0.25)\n",
        "    q3 = df[degisken].quantile(0.75)\n",
        "    iqr = q3 - q1\n",
        "    alt_sinir = q1 - 1.5 * iqr\n",
        "    ust_sinir = q3 + 1.5 * iqr\n",
        "    df[degisken] = df[degisken].clip(alt_sinir, ust_sinir)  # Aykırı değerleri sınırla\n",
        "\n",
        "scaler = StandardScaler()\n",
        "df[numerik_degiskenler] = scaler.fit_transform(df[numerik_degiskenler])\n"
      ],
      "metadata": {
        "id": "EIpylNOVWjFB"
      },
      "execution_count": 12,
      "outputs": []
    },
    {
      "cell_type": "code",
      "source": [
        "# Adım 4: Numerik değişkenler için standartlaştırma yapalım\n",
        "from sklearn.preprocessing import StandardScaler\n",
        "scaler = StandardScaler()\n",
        "df[numerik_degiskenler] = scaler.fit_transform(df[numerik_degiskenler])\n"
      ],
      "metadata": {
        "id": "yHrtN5kwWpDf"
      },
      "execution_count": 13,
      "outputs": []
    },
    {
      "cell_type": "markdown",
      "source": [
        "#  **Görev 3: Modelleme**\n"
      ],
      "metadata": {
        "id": "1AmnN2RlWtzM"
      }
    },
    {
      "cell_type": "code",
      "source": [
        "# Adım 1: Sınıflandırma algoritmaları ile modeller kurup, accuracy skorlarını inceleyip. En iyi 4 modeli seçelim\n",
        "from sklearn.model_selection import train_test_split\n",
        "from sklearn.metrics import accuracy_score\n",
        "from sklearn.linear_model import LogisticRegression\n",
        "from sklearn.neighbors import KNeighborsClassifier\n",
        "from sklearn.tree import DecisionTreeClassifier\n",
        "from sklearn.ensemble import RandomForestClassifier"
      ],
      "metadata": {
        "id": "xT198BSaWo7d"
      },
      "execution_count": 14,
      "outputs": []
    },
    {
      "cell_type": "code",
      "source": [
        "X = df.drop(\"Churn_Yes\", axis=1)\n",
        "y = df[\"Churn_Yes\"]\n",
        "\n",
        "X_train, X_test, y_train, y_test = train_test_split(X, y, test_size=0.2, random_state=42)\n",
        "\n",
        "log_reg = LogisticRegression()\n",
        "knn = KNeighborsClassifier()\n",
        "dt = DecisionTreeClassifier()\n",
        "rf = RandomForestClassifier()\n",
        "\n",
        "log_reg.fit(X_train, y_train)\n",
        "y_pred_log_reg = log_reg.predict(X_test)\n",
        "knn.fit(X_train, y_train)\n",
        "y_pred_knn = knn.predict(X_test)\n",
        "dt.fit(X_train, y_train)\n",
        "y_pred_dt = dt.predict(X_test)\n",
        "rf.fit(X_train, y_train)\n",
        "y_pred_rf = rf.predict(X_test)\n",
        "\n",
        "accuracy_scores = {}\n",
        "accuracy_scores[\"Logistic Regression\"] = accuracy_score(y_test, y_pred_log_reg)\n",
        "accuracy_scores[\"KNN\"] = accuracy_score(y_test, y_pred_knn)\n",
        "accuracy_scores[\"Decision Tree\"] = accuracy_score(y_test, y_pred_dt)\n",
        "accuracy_scores[\"Random Forest\"] = accuracy_score(y_test, y_pred_rf)\n",
        "\n",
        "accuracy_scores = sorted(accuracy_scores.items(), key=lambda x: x[1], reverse=True)\n",
        "\n",
        "print(\"Accuracy skorları:\")\n",
        "for model, score in accuracy_scores:\n",
        "    print(model, \":\", score)\n",
        "\n",
        "best_4_models = [model for model, score in accuracy_scores[:4]]\n",
        "print(\"En iyi 4 model:\")\n",
        "print(best_4_models)"
      ],
      "metadata": {
        "colab": {
          "base_uri": "https://localhost:8080/"
        },
        "id": "z2b7yjvsWyMG",
        "outputId": "a8fad197-824f-4cc7-8657-00ee5ee528e4"
      },
      "execution_count": 15,
      "outputs": [
        {
          "output_type": "stream",
          "name": "stderr",
          "text": [
            "/usr/local/lib/python3.10/dist-packages/sklearn/linear_model/_logistic.py:458: ConvergenceWarning: lbfgs failed to converge (status=1):\n",
            "STOP: TOTAL NO. of ITERATIONS REACHED LIMIT.\n",
            "\n",
            "Increase the number of iterations (max_iter) or scale the data as shown in:\n",
            "    https://scikit-learn.org/stable/modules/preprocessing.html\n",
            "Please also refer to the documentation for alternative solver options:\n",
            "    https://scikit-learn.org/stable/modules/linear_model.html#logistic-regression\n",
            "  n_iter_i = _check_optimize_result(\n"
          ]
        },
        {
          "output_type": "stream",
          "name": "stdout",
          "text": [
            "Accuracy skorları:\n",
            "Logistic Regression : 0.8197303051809794\n",
            "Random Forest : 0.794180269694819\n",
            "KNN : 0.7856635911994322\n",
            "Decision Tree : 0.7735982966643009\n",
            "En iyi 4 model:\n",
            "['Logistic Regression', 'Random Forest', 'KNN', 'Decision Tree']\n"
          ]
        }
      ]
    }
  ]
}